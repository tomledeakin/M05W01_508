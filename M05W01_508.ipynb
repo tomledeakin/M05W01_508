{
  "nbformat": 4,
  "nbformat_minor": 0,
  "metadata": {
    "colab": {
      "provenance": [],
      "gpuType": "T4"
    },
    "kernelspec": {
      "name": "python3",
      "display_name": "Python 3"
    },
    "language_info": {
      "name": "python"
    }
  },
  "cells": [
    {
      "cell_type": "code",
      "execution_count": 127,
      "metadata": {
        "colab": {
          "base_uri": "https://localhost:8080/"
        },
        "id": "6lAsXpTBXeVJ",
        "outputId": "c9baac03-0e15-4796-ffcd-0f53c041b2ad"
      },
      "outputs": [
        {
          "output_type": "stream",
          "name": "stdout",
          "text": [
            "             Pclass  Sex   Age  SibSp  Parch     Fare  Embarked  Title  \\\n",
            "PassengerId                                                              \n",
            "1                 3    0  22.0      1      0   7.2500         0      0   \n",
            "2                 1    1  38.0      1      0  71.2833         1      1   \n",
            "3                 3    1  26.0      0      0   7.9250         0      2   \n",
            "4                 1    1  35.0      1      0  53.1000         0      1   \n",
            "5                 3    0  35.0      0      0   8.0500         0      0   \n",
            "\n",
            "             Survived  \n",
            "PassengerId            \n",
            "1                   0  \n",
            "2                   1  \n",
            "3                   1  \n",
            "4                   1  \n",
            "5                   0  \n",
            "Shape: (891, 9)\n"
          ]
        }
      ],
      "source": [
        "import pandas as pd\n",
        "import numpy as np\n",
        "import matplotlib.pyplot as plt\n",
        "\n",
        "from sklearn.model_selection import train_test_split\n",
        "from sklearn.preprocessing import StandardScaler\n",
        "\n",
        "titanic_df = pd.read_csv('/content/drive/MyDrive/AI VIETNAM/Module 5/data/titanic_modified_dataset.csv', index_col='PassengerId')\n",
        "print(titanic_df.head())\n",
        "print(f'Shape: {titanic_df.shape}')"
      ]
    },
    {
      "cell_type": "code",
      "source": [
        "dataset_arr = titanic_df.to_numpy().astype(np.float64)\n",
        "print(dataset_arr[0, :])\n",
        "\n",
        "X, y = dataset_arr[:, :-1], dataset_arr[:, -1]\n",
        "print(X.shape, y.shape)"
      ],
      "metadata": {
        "colab": {
          "base_uri": "https://localhost:8080/"
        },
        "id": "p_8t-9CSYyvN",
        "outputId": "13146a36-1046-42bc-87a6-3e24a69224cb"
      },
      "execution_count": 128,
      "outputs": [
        {
          "output_type": "stream",
          "name": "stdout",
          "text": [
            "[ 3.    0.   22.    1.    0.    7.25  0.    0.    0.  ]\n",
            "(891, 8) (891,)\n"
          ]
        }
      ]
    },
    {
      "cell_type": "code",
      "source": [
        "intercept = np.ones((X.shape[0], 1))\n",
        "X_b = np.concatenate((intercept, X), axis=1)\n",
        "\n",
        "print(X_b.shape)"
      ],
      "metadata": {
        "colab": {
          "base_uri": "https://localhost:8080/"
        },
        "id": "_g2JvndmZ_BP",
        "outputId": "10932661-6689-4f3c-ff91-4a4658e6dc5b"
      },
      "execution_count": 129,
      "outputs": [
        {
          "output_type": "stream",
          "name": "stdout",
          "text": [
            "(891, 9)\n"
          ]
        }
      ]
    },
    {
      "cell_type": "code",
      "source": [
        "val_size = 0.2\n",
        "test_size = 0.125\n",
        "random_state = 2\n",
        "is_shuffle = True\n",
        "\n",
        "X_train, X_val, y_train, y_val = train_test_split(X_b, y, test_size=val_size, random_state=random_state, shuffle=is_shuffle)\n",
        "X_train, X_test, y_train, y_test = train_test_split(X_train, y_train, test_size=test_size, random_state=random_state, shuffle=is_shuffle)\n",
        "\n",
        "print(f'val_size: {round(X_val.shape[0] / X_b.shape[0], 1)}')\n",
        "print(f'test_size: {round(X_test.shape[0] / X_b.shape[0], 1)}')"
      ],
      "metadata": {
        "colab": {
          "base_uri": "https://localhost:8080/"
        },
        "id": "Gmba0nsFfK1I",
        "outputId": "2bad89a7-27dd-4d09-a4aa-4f818e0b5171"
      },
      "execution_count": 130,
      "outputs": [
        {
          "output_type": "stream",
          "name": "stdout",
          "text": [
            "val_size: 0.2\n",
            "test_size: 0.1\n"
          ]
        }
      ]
    },
    {
      "cell_type": "code",
      "source": [
        "normalizer = StandardScaler()\n",
        "X_train[:, 1:] = normalizer.fit_transform(X_train[:, 1:])\n",
        "X_val[:, 1:] = normalizer.transform(X_val[:, 1:])\n",
        "X_test[:, 1:] = normalizer.transform(X_test[:, 1:])"
      ],
      "metadata": {
        "id": "bdcZM7Jpk7zu"
      },
      "execution_count": 131,
      "outputs": []
    },
    {
      "cell_type": "code",
      "source": [
        "def sigmoid(z):\n",
        "  return 1 / (1 + np.exp(-z))"
      ],
      "metadata": {
        "id": "zQD7fo7MnB1v"
      },
      "execution_count": 132,
      "outputs": []
    },
    {
      "cell_type": "code",
      "source": [
        "def predict(X, theta):\n",
        "  dot_product = np.dot(X, theta)\n",
        "  y_hat = sigmoid(dot_product)\n",
        "\n",
        "  return y_hat"
      ],
      "metadata": {
        "id": "Kw4LWipinLaJ"
      },
      "execution_count": 133,
      "outputs": []
    },
    {
      "cell_type": "code",
      "source": [
        "def compute_loss(y_hat, y):\n",
        "  y_hat = np.clip(y_hat, 1e-7, 1 - 1e-7)\n",
        "\n",
        "  return (-y * np.log(y_hat) - (1 - y) * np.log (1 - y_hat)).mean()"
      ],
      "metadata": {
        "id": "wfEAZyuepzlq"
      },
      "execution_count": 134,
      "outputs": []
    },
    {
      "cell_type": "code",
      "source": [
        "def compute_gradient(X, y, y_hat):\n",
        "  return np.dot(X.T, (y_hat - y)) / y.size"
      ],
      "metadata": {
        "id": "jWkTlv0PqA1f"
      },
      "execution_count": 135,
      "outputs": []
    },
    {
      "cell_type": "code",
      "source": [
        "def update_theta(theta, gradient, lr):\n",
        "  return theta - lr * gradient"
      ],
      "metadata": {
        "id": "WnYZan4fpzoK"
      },
      "execution_count": 136,
      "outputs": []
    },
    {
      "cell_type": "code",
      "source": [
        "def compute_accuracy(X, y, theta):\n",
        "  y_hat = predict(X, theta).round()\n",
        "  acc = (y_hat == y).mean()\n",
        "\n",
        "  return acc"
      ],
      "metadata": {
        "id": "HLtZLk8wpzqx"
      },
      "execution_count": 137,
      "outputs": []
    },
    {
      "cell_type": "code",
      "source": [
        "lr = 0.01\n",
        "epochs = 100\n",
        "batch_size = 16\n",
        "\n",
        "np.random.seed(random_state)\n",
        "theta = np.random.uniform(\n",
        "    size=X_train.shape[1]\n",
        ")"
      ],
      "metadata": {
        "id": "jAuHH6SBpzte"
      },
      "execution_count": 138,
      "outputs": []
    },
    {
      "cell_type": "code",
      "source": [
        "train_accs = []\n",
        "train_losses = []\n",
        "val_accs = []\n",
        "val_losses = []\n",
        "\n",
        "for epoch in range(epochs):\n",
        "    train_batch_losses = []\n",
        "    train_batch_accs = []\n",
        "    val_batch_losses = []\n",
        "    val_batch_accs = []\n",
        "\n",
        "    for i in range(0, X_train.shape[0], batch_size):\n",
        "        X_i = X_train[i:i + batch_size]\n",
        "        y_i = y_train[i:i + batch_size]\n",
        "\n",
        "        y_hat = predict(X_i, theta)\n",
        "\n",
        "        train_loss = compute_loss(y_hat, y_i)\n",
        "\n",
        "        gradient = compute_gradient(X_i, y_i, y_hat)\n",
        "\n",
        "        theta = update_theta(theta, gradient, lr)\n",
        "\n",
        "        train_batch_losses.append(train_loss)\n",
        "\n",
        "        train_acc = compute_accuracy(X_train, y_train, theta)\n",
        "        train_batch_accs.append(train_acc)\n",
        "\n",
        "    y_val_hat = predict(X_val, theta)\n",
        "    val_loss = compute_loss(y_val_hat, y_val)\n",
        "    val_batch_losses.append(val_loss)\n",
        "\n",
        "    val_acc = compute_accuracy(X_val, y_val, theta)\n",
        "    val_batch_accs.append(val_acc)\n",
        "\n",
        "    train_batch_loss = sum(train_batch_losses) / len(train_batch_losses)\n",
        "    val_batch_loss = sum(val_batch_losses) / len(val_batch_losses)\n",
        "    train_batch_acc = sum(train_batch_accs) / len(train_batch_accs)\n",
        "    val_batch_acc = sum(val_batch_accs) / len(val_batch_accs)\n",
        "\n",
        "    train_losses.append(train_batch_loss)\n",
        "    val_losses.append(val_batch_loss)\n",
        "    train_accs.append(train_batch_acc)\n",
        "    val_accs.append(val_batch_acc)\n",
        "\n",
        "    print(f\"\\nEPOCH {epoch + 1}:\\tTraining loss: {train_batch_loss:.3f}\\tValidation loss: {val_batch_loss:.3f}\")\n"
      ],
      "metadata": {
        "colab": {
          "base_uri": "https://localhost:8080/"
        },
        "id": "bDEly0fNtu5X",
        "outputId": "1136bbc9-099e-4bf1-8b05-6e3d92bddce1"
      },
      "execution_count": 139,
      "outputs": [
        {
          "output_type": "stream",
          "name": "stdout",
          "text": [
            "\n",
            "EPOCH 1:\tTraining loss: 0.703\tValidation loss: 0.590\n",
            "\n",
            "EPOCH 2:\tTraining loss: 0.670\tValidation loss: 0.574\n",
            "\n",
            "EPOCH 3:\tTraining loss: 0.640\tValidation loss: 0.560\n",
            "\n",
            "EPOCH 4:\tTraining loss: 0.614\tValidation loss: 0.549\n",
            "\n",
            "EPOCH 5:\tTraining loss: 0.592\tValidation loss: 0.539\n",
            "\n",
            "EPOCH 6:\tTraining loss: 0.572\tValidation loss: 0.531\n",
            "\n",
            "EPOCH 7:\tTraining loss: 0.554\tValidation loss: 0.524\n",
            "\n",
            "EPOCH 8:\tTraining loss: 0.539\tValidation loss: 0.519\n",
            "\n",
            "EPOCH 9:\tTraining loss: 0.526\tValidation loss: 0.514\n",
            "\n",
            "EPOCH 10:\tTraining loss: 0.514\tValidation loss: 0.511\n",
            "\n",
            "EPOCH 11:\tTraining loss: 0.504\tValidation loss: 0.508\n",
            "\n",
            "EPOCH 12:\tTraining loss: 0.495\tValidation loss: 0.506\n",
            "\n",
            "EPOCH 13:\tTraining loss: 0.487\tValidation loss: 0.504\n",
            "\n",
            "EPOCH 14:\tTraining loss: 0.480\tValidation loss: 0.503\n",
            "\n",
            "EPOCH 15:\tTraining loss: 0.474\tValidation loss: 0.502\n",
            "\n",
            "EPOCH 16:\tTraining loss: 0.468\tValidation loss: 0.501\n",
            "\n",
            "EPOCH 17:\tTraining loss: 0.463\tValidation loss: 0.500\n",
            "\n",
            "EPOCH 18:\tTraining loss: 0.459\tValidation loss: 0.500\n",
            "\n",
            "EPOCH 19:\tTraining loss: 0.455\tValidation loss: 0.500\n",
            "\n",
            "EPOCH 20:\tTraining loss: 0.452\tValidation loss: 0.500\n",
            "\n",
            "EPOCH 21:\tTraining loss: 0.449\tValidation loss: 0.500\n",
            "\n",
            "EPOCH 22:\tTraining loss: 0.446\tValidation loss: 0.500\n",
            "\n",
            "EPOCH 23:\tTraining loss: 0.443\tValidation loss: 0.500\n",
            "\n",
            "EPOCH 24:\tTraining loss: 0.441\tValidation loss: 0.500\n",
            "\n",
            "EPOCH 25:\tTraining loss: 0.439\tValidation loss: 0.501\n",
            "\n",
            "EPOCH 26:\tTraining loss: 0.437\tValidation loss: 0.501\n",
            "\n",
            "EPOCH 27:\tTraining loss: 0.435\tValidation loss: 0.501\n",
            "\n",
            "EPOCH 28:\tTraining loss: 0.434\tValidation loss: 0.502\n",
            "\n",
            "EPOCH 29:\tTraining loss: 0.432\tValidation loss: 0.502\n",
            "\n",
            "EPOCH 30:\tTraining loss: 0.431\tValidation loss: 0.502\n",
            "\n",
            "EPOCH 31:\tTraining loss: 0.430\tValidation loss: 0.503\n",
            "\n",
            "EPOCH 32:\tTraining loss: 0.429\tValidation loss: 0.503\n",
            "\n",
            "EPOCH 33:\tTraining loss: 0.428\tValidation loss: 0.504\n",
            "\n",
            "EPOCH 34:\tTraining loss: 0.427\tValidation loss: 0.504\n",
            "\n",
            "EPOCH 35:\tTraining loss: 0.426\tValidation loss: 0.504\n",
            "\n",
            "EPOCH 36:\tTraining loss: 0.425\tValidation loss: 0.505\n",
            "\n",
            "EPOCH 37:\tTraining loss: 0.424\tValidation loss: 0.505\n",
            "\n",
            "EPOCH 38:\tTraining loss: 0.424\tValidation loss: 0.506\n",
            "\n",
            "EPOCH 39:\tTraining loss: 0.423\tValidation loss: 0.506\n",
            "\n",
            "EPOCH 40:\tTraining loss: 0.422\tValidation loss: 0.506\n",
            "\n",
            "EPOCH 41:\tTraining loss: 0.422\tValidation loss: 0.507\n",
            "\n",
            "EPOCH 42:\tTraining loss: 0.421\tValidation loss: 0.507\n",
            "\n",
            "EPOCH 43:\tTraining loss: 0.421\tValidation loss: 0.508\n",
            "\n",
            "EPOCH 44:\tTraining loss: 0.420\tValidation loss: 0.508\n",
            "\n",
            "EPOCH 45:\tTraining loss: 0.420\tValidation loss: 0.508\n",
            "\n",
            "EPOCH 46:\tTraining loss: 0.420\tValidation loss: 0.509\n",
            "\n",
            "EPOCH 47:\tTraining loss: 0.419\tValidation loss: 0.509\n",
            "\n",
            "EPOCH 48:\tTraining loss: 0.419\tValidation loss: 0.509\n",
            "\n",
            "EPOCH 49:\tTraining loss: 0.418\tValidation loss: 0.510\n",
            "\n",
            "EPOCH 50:\tTraining loss: 0.418\tValidation loss: 0.510\n",
            "\n",
            "EPOCH 51:\tTraining loss: 0.418\tValidation loss: 0.510\n",
            "\n",
            "EPOCH 52:\tTraining loss: 0.417\tValidation loss: 0.511\n",
            "\n",
            "EPOCH 53:\tTraining loss: 0.417\tValidation loss: 0.511\n",
            "\n",
            "EPOCH 54:\tTraining loss: 0.417\tValidation loss: 0.511\n",
            "\n",
            "EPOCH 55:\tTraining loss: 0.417\tValidation loss: 0.512\n",
            "\n",
            "EPOCH 56:\tTraining loss: 0.416\tValidation loss: 0.512\n",
            "\n",
            "EPOCH 57:\tTraining loss: 0.416\tValidation loss: 0.512\n",
            "\n",
            "EPOCH 58:\tTraining loss: 0.416\tValidation loss: 0.512\n",
            "\n",
            "EPOCH 59:\tTraining loss: 0.416\tValidation loss: 0.513\n",
            "\n",
            "EPOCH 60:\tTraining loss: 0.416\tValidation loss: 0.513\n",
            "\n",
            "EPOCH 61:\tTraining loss: 0.415\tValidation loss: 0.513\n",
            "\n",
            "EPOCH 62:\tTraining loss: 0.415\tValidation loss: 0.513\n",
            "\n",
            "EPOCH 63:\tTraining loss: 0.415\tValidation loss: 0.514\n",
            "\n",
            "EPOCH 64:\tTraining loss: 0.415\tValidation loss: 0.514\n",
            "\n",
            "EPOCH 65:\tTraining loss: 0.415\tValidation loss: 0.514\n",
            "\n",
            "EPOCH 66:\tTraining loss: 0.415\tValidation loss: 0.514\n",
            "\n",
            "EPOCH 67:\tTraining loss: 0.415\tValidation loss: 0.514\n",
            "\n",
            "EPOCH 68:\tTraining loss: 0.414\tValidation loss: 0.515\n",
            "\n",
            "EPOCH 69:\tTraining loss: 0.414\tValidation loss: 0.515\n",
            "\n",
            "EPOCH 70:\tTraining loss: 0.414\tValidation loss: 0.515\n",
            "\n",
            "EPOCH 71:\tTraining loss: 0.414\tValidation loss: 0.515\n",
            "\n",
            "EPOCH 72:\tTraining loss: 0.414\tValidation loss: 0.515\n",
            "\n",
            "EPOCH 73:\tTraining loss: 0.414\tValidation loss: 0.516\n",
            "\n",
            "EPOCH 74:\tTraining loss: 0.414\tValidation loss: 0.516\n",
            "\n",
            "EPOCH 75:\tTraining loss: 0.414\tValidation loss: 0.516\n",
            "\n",
            "EPOCH 76:\tTraining loss: 0.414\tValidation loss: 0.516\n",
            "\n",
            "EPOCH 77:\tTraining loss: 0.413\tValidation loss: 0.516\n",
            "\n",
            "EPOCH 78:\tTraining loss: 0.413\tValidation loss: 0.517\n",
            "\n",
            "EPOCH 79:\tTraining loss: 0.413\tValidation loss: 0.517\n",
            "\n",
            "EPOCH 80:\tTraining loss: 0.413\tValidation loss: 0.517\n",
            "\n",
            "EPOCH 81:\tTraining loss: 0.413\tValidation loss: 0.517\n",
            "\n",
            "EPOCH 82:\tTraining loss: 0.413\tValidation loss: 0.517\n",
            "\n",
            "EPOCH 83:\tTraining loss: 0.413\tValidation loss: 0.517\n",
            "\n",
            "EPOCH 84:\tTraining loss: 0.413\tValidation loss: 0.518\n",
            "\n",
            "EPOCH 85:\tTraining loss: 0.413\tValidation loss: 0.518\n",
            "\n",
            "EPOCH 86:\tTraining loss: 0.413\tValidation loss: 0.518\n",
            "\n",
            "EPOCH 87:\tTraining loss: 0.413\tValidation loss: 0.518\n",
            "\n",
            "EPOCH 88:\tTraining loss: 0.413\tValidation loss: 0.518\n",
            "\n",
            "EPOCH 89:\tTraining loss: 0.413\tValidation loss: 0.518\n",
            "\n",
            "EPOCH 90:\tTraining loss: 0.413\tValidation loss: 0.518\n",
            "\n",
            "EPOCH 91:\tTraining loss: 0.413\tValidation loss: 0.518\n",
            "\n",
            "EPOCH 92:\tTraining loss: 0.413\tValidation loss: 0.519\n",
            "\n",
            "EPOCH 93:\tTraining loss: 0.413\tValidation loss: 0.519\n",
            "\n",
            "EPOCH 94:\tTraining loss: 0.412\tValidation loss: 0.519\n",
            "\n",
            "EPOCH 95:\tTraining loss: 0.412\tValidation loss: 0.519\n",
            "\n",
            "EPOCH 96:\tTraining loss: 0.412\tValidation loss: 0.519\n",
            "\n",
            "EPOCH 97:\tTraining loss: 0.412\tValidation loss: 0.519\n",
            "\n",
            "EPOCH 98:\tTraining loss: 0.412\tValidation loss: 0.519\n",
            "\n",
            "EPOCH 99:\tTraining loss: 0.412\tValidation loss: 0.519\n",
            "\n",
            "EPOCH 100:\tTraining loss: 0.412\tValidation loss: 0.520\n"
          ]
        }
      ]
    },
    {
      "cell_type": "code",
      "source": [
        "fig, ax = plt.subplots(2, 2, figsize=(12, 10))\n",
        "\n",
        "# Training Loss\n",
        "ax[0, 0].plot(train_losses, color='aqua')\n",
        "ax[0, 0].set(xlabel='Epoch', ylabel='Loss')\n",
        "ax[0, 0].set_title('Training Loss')\n",
        "\n",
        "# Validation Loss\n",
        "ax[0, 1].plot(val_losses, color='tomato')\n",
        "ax[0, 1].set(xlabel='Epoch', ylabel='Loss')\n",
        "ax[0, 1].set_title('Validation Loss')\n",
        "\n",
        "# Training Accuracy\n",
        "ax[1, 0].plot(train_accs, color='gold')\n",
        "ax[1, 0].set(xlabel='Epoch', ylabel='Accuracy')\n",
        "ax[1, 0].set_title('Training Accuracy')\n",
        "\n",
        "# Validation Accuracy\n",
        "ax[1, 1].plot(val_accs, color='lime')\n",
        "ax[1, 1].set(xlabel='Epoch', ylabel='Accuracy')\n",
        "ax[1, 1].set_title('Validation Accuracy')\n",
        "\n",
        "plt.show()\n"
      ],
      "metadata": {
        "id": "8eKcJr7Atu8P",
        "colab": {
          "base_uri": "https://localhost:8080/",
          "height": 872
        },
        "outputId": "b57f94d4-880d-4b7e-a110-32733e510f59"
      },
      "execution_count": 140,
      "outputs": [
        {
          "output_type": "display_data",
          "data": {
            "text/plain": [
              "<Figure size 1200x1000 with 4 Axes>"
            ],
            "image/png": "[encoded data removed]"
          },
          "metadata": {}
        }
      ]
    },
    {
      "cell_type": "code",
      "source": [
        "val_set_acc = compute_accuracy(X_val, y_val, theta)\n",
        "test_set_acc = compute_accuracy(X_test, y_test, theta)\n",
        "\n",
        "print(f'Validation set accuracy: {val_set_acc:.3f}')\n",
        "print(f'Test set accuracy: {test_set_acc:.3f}')"
      ],
      "metadata": {
        "id": "ovg733VAtu_C",
        "colab": {
          "base_uri": "https://localhost:8080/"
        },
        "outputId": "f3c0cfac-a862-460d-d33c-ecfabcc738e3"
      },
      "execution_count": 141,
      "outputs": [
        {
          "output_type": "stream",
          "name": "stdout",
          "text": [
            "Validation set accuracy: 0.771\n",
            "Test set accuracy: 0.775\n"
          ]
        }
      ]
    },
    {
      "cell_type": "code",
      "source": [
        "import pandas as pd\n",
        "import numpy as np\n",
        "import re\n",
        "import nltk\n",
        "import matplotlib.pyplot as plt\n",
        "\n",
        "from sklearn.model_selection import train_test_split\n",
        "from sklearn.preprocessing import StandardScaler\n",
        "from nltk.tokenize import TweetTokenizer\n",
        "from collections import defaultdict\n",
        "\n",
        "sentiment_df = pd.read_csv('/content/drive/MyDrive/AI VIETNAM/Module 5/data/sentiment_analysis.csv', index_col='id')\n",
        "print(sentiment_df.shape)\n",
        "print(sentiment_df.head())"
      ],
      "metadata": {
        "id": "dRO84XHptvB7",
        "colab": {
          "base_uri": "https://localhost:8080/"
        },
        "outputId": "47caea0f-e14b-4e54-b865-41c89044aa39"
      },
      "execution_count": 142,
      "outputs": [
        {
          "output_type": "stream",
          "name": "stdout",
          "text": [
            "(7920, 2)\n",
            "    label                                              tweet\n",
            "id                                                          \n",
            "1       0  #fingerprint #Pregnancy Test https://goo.gl/h1...\n",
            "2       0  Finally a transparant silicon case ^^ Thanks t...\n",
            "3       0  We love this! Would you go? #talk #makememorie...\n",
            "4       0  I'm wired I know I'm George I was made that wa...\n",
            "5       1  What amazing service! Apple won't even talk to...\n"
          ]
        }
      ]
    },
    {
      "cell_type": "code",
      "source": [
        "import re\n",
        "from nltk.tokenize import TweetTokenizer\n",
        "\n",
        "def text_normalize(text):\n",
        "    # Retweet old acronym \"RT\" removal\n",
        "    text = re.sub(r'^RT[\\s]+', '', text)\n",
        "\n",
        "    # Hyperlinks removal\n",
        "    text = re.sub(r'https?://[^\\s\\n]*', '', text)\n",
        "\n",
        "    # Hashtags removal\n",
        "    text = re.sub(r'#', '', text)\n",
        "\n",
        "    # Punctuation removal\n",
        "    text = re.sub(r'[^\\w\\s]', '', text)\n",
        "\n",
        "    # Tokenization\n",
        "    tokenizer = TweetTokenizer(\n",
        "        preserve_case=False,\n",
        "        strip_handles=True,\n",
        "        reduce_len=True\n",
        "    )\n",
        "    text_tokens = tokenizer.tokenize(text)\n",
        "\n",
        "    return text_tokens\n"
      ],
      "metadata": {
        "id": "OEo5tvsHtvE1"
      },
      "execution_count": 143,
      "outputs": []
    },
    {
      "cell_type": "code",
      "source": [
        "def get_freqs(df):\n",
        "    freqs = defaultdict(lambda: 0)\n",
        "\n",
        "    for idx, row in df.iterrows():\n",
        "        tweet = row['tweet']\n",
        "        label = row['label']\n",
        "\n",
        "        tokens = text_normalize(tweet)\n",
        "\n",
        "        for token in tokens:\n",
        "            pair = (token, label)\n",
        "            freqs[pair] += 1\n",
        "\n",
        "    return freqs"
      ],
      "metadata": {
        "id": "rm8gDfzotvHt"
      },
      "execution_count": 144,
      "outputs": []
    },
    {
      "cell_type": "code",
      "source": [
        "def get_feature(text, freqs):\n",
        "  tokens = text_normalize(text)\n",
        "\n",
        "  X = np.zeros(3)\n",
        "  X[0] = 1\n",
        "\n",
        "  for token in tokens:\n",
        "    X[1] += freqs[(token, 0)]\n",
        "    X[2] += freqs[(token, 1)]\n",
        "\n",
        "  return X"
      ],
      "metadata": {
        "id": "oujE9q9QtvKb"
      },
      "execution_count": 145,
      "outputs": []
    },
    {
      "cell_type": "code",
      "source": [
        "X = []\n",
        "y = []\n",
        "\n",
        "freqs = get_freqs(sentiment_df)\n",
        "\n",
        "for idx, row in sentiment_df.iterrows():\n",
        "  tweet = row['tweet']\n",
        "  label = row['label']\n",
        "\n",
        "  X_i = get_feature(tweet, freqs)\n",
        "  y_i = label\n",
        "\n",
        "  X.append(X_i)\n",
        "  y.append(y_i)\n",
        "\n",
        "X = np.array(X)\n",
        "y = np.array(y)"
      ],
      "metadata": {
        "id": "MVFTW86VnFSx"
      },
      "execution_count": 146,
      "outputs": []
    },
    {
      "cell_type": "code",
      "source": [
        "val_size = 0.2\n",
        "test_size = 0.125\n",
        "random_state = 2\n",
        "is_shuffle = True\n",
        "\n",
        "X_train, X_val, y_train, y_val = train_test_split(X, y, test_size=val_size, random_state=random_state, shuffle=is_shuffle)\n",
        "X_train, X_test, y_train, y_test = train_test_split(X_train, y_train, test_size=test_size, random_state=random_state, shuffle=is_shuffle)\n",
        "\n",
        "print(f'val_size: {round(X_val.shape[0] / X.shape[0], 1)}')\n",
        "print(f'test_size: {round(X_test.shape[0] / X.shape[0], 1)}')"
      ],
      "metadata": {
        "colab": {
          "base_uri": "https://localhost:8080/"
        },
        "id": "5u0Acg4mnFVd",
        "outputId": "ac558c2a-e9db-4383-8812-6ce4505f47a1"
      },
      "execution_count": 147,
      "outputs": [
        {
          "output_type": "stream",
          "name": "stdout",
          "text": [
            "val_size: 0.2\n",
            "test_size: 0.1\n"
          ]
        }
      ]
    },
    {
      "cell_type": "code",
      "source": [
        "normalizer = StandardScaler()\n",
        "X_train[:, 1:] = normalizer.fit_transform(X_train[:, 1:])\n",
        "X_val[:, 1:] = normalizer.transform(X_val[:, 1:])\n",
        "X_test[:, 1:] = normalizer.transform(X_test[:, 1:])"
      ],
      "metadata": {
        "id": "oWj6B0b2nFX_"
      },
      "execution_count": 148,
      "outputs": []
    },
    {
      "cell_type": "code",
      "source": [
        "def sigmoid(z):\n",
        "    return 1 / (1 + np.exp(-z))\n",
        "\n",
        "def compute_loss(y_hat, y):\n",
        "    y_hat = np.clip(y_hat, 1e-7, 1 - 1e-7)\n",
        "    return (-y * np.log(y_hat) - (1 - y) * np.log(1 - y_hat)).mean()\n",
        "\n",
        "def predict(X, theta):\n",
        "    dot_product = np.dot(X, theta)\n",
        "    y_hat = sigmoid(dot_product)\n",
        "    return y_hat\n",
        "\n",
        "def compute_gradient(X, y, y_hat):\n",
        "    return np.dot(X.T, (y_hat - y)) / y.size\n",
        "\n",
        "def update_theta(theta, gradient, lr):\n",
        "    return theta - lr * gradient\n",
        "\n",
        "def compute_accuracy(X, y, theta):\n",
        "    y_hat = predict(X, theta).round()\n",
        "    acc = (y_hat == y).mean()\n",
        "    return acc\n"
      ],
      "metadata": {
        "id": "wf5pRsMrod2d"
      },
      "execution_count": 149,
      "outputs": []
    },
    {
      "cell_type": "code",
      "source": [
        "lr = 0.01\n",
        "epochs = 100\n",
        "batch_size = 16\n",
        "\n",
        "np.random.seed(random_state)\n",
        "theta = np.random.uniform(\n",
        "    size=X_train.shape[1]\n",
        ")"
      ],
      "metadata": {
        "id": "5-EzKaJ7od5b"
      },
      "execution_count": 150,
      "outputs": []
    },
    {
      "cell_type": "code",
      "source": [
        "train_accs = []\n",
        "train_losses = []\n",
        "val_accs = []\n",
        "val_losses = []\n",
        "\n",
        "for epoch in range(epochs):\n",
        "    train_batch_losses = []\n",
        "    train_batch_accs = []\n",
        "    val_batch_losses = []\n",
        "    val_batch_accs = []\n",
        "\n",
        "    for i in range(0, X_train.shape[0], batch_size):\n",
        "        X_i = X_train[i:i + batch_size]\n",
        "        y_i = y_train[i:i + batch_size]\n",
        "\n",
        "        y_hat = predict(X_i, theta)\n",
        "\n",
        "        train_loss = compute_loss(y_hat, y_i)\n",
        "\n",
        "        gradient = compute_gradient(X_i, y_i, y_hat)\n",
        "\n",
        "        theta = update_theta(theta, gradient, lr)\n",
        "\n",
        "        train_batch_losses.append(train_loss)\n",
        "\n",
        "        train_acc = compute_accuracy(X_train, y_train, theta)\n",
        "        train_batch_accs.append(train_acc)\n",
        "\n",
        "    y_val_hat = predict(X_val, theta)\n",
        "    val_loss = compute_loss(y_val_hat, y_val)\n",
        "    val_batch_losses.append(val_loss)\n",
        "\n",
        "    val_acc = compute_accuracy(X_val, y_val, theta)\n",
        "    val_batch_accs.append(val_acc)\n",
        "\n",
        "    train_batch_loss = sum(train_batch_losses) / len(train_batch_losses)\n",
        "    val_batch_loss = sum(val_batch_losses) / len(val_batch_losses)\n",
        "    train_batch_acc = sum(train_batch_accs) / len(train_batch_accs)\n",
        "    val_batch_acc = sum(val_batch_accs) / len(val_batch_accs)\n",
        "\n",
        "    train_losses.append(train_batch_loss)\n",
        "    val_losses.append(val_batch_loss)\n",
        "    train_accs.append(train_batch_acc)\n",
        "    val_accs.append(val_batch_acc)\n",
        "\n",
        "    print(f\"\\nEPOCH {epoch + 1}:\\tTraining loss: {train_batch_loss:.3f}\\tValidation loss: {val_batch_loss:.3f}\")\n"
      ],
      "metadata": {
        "colab": {
          "base_uri": "https://localhost:8080/"
        },
        "id": "u08RCnDhod8E",
        "outputId": "f43464c9-fb2a-4b89-f27b-637be81db937"
      },
      "execution_count": 151,
      "outputs": [
        {
          "output_type": "stream",
          "name": "stdout",
          "text": [
            "\n",
            "EPOCH 1:\tTraining loss: 0.596\tValidation loss: 0.506\n",
            "\n",
            "EPOCH 2:\tTraining loss: 0.473\tValidation loss: 0.446\n",
            "\n",
            "EPOCH 3:\tTraining loss: 0.435\tValidation loss: 0.422\n",
            "\n",
            "EPOCH 4:\tTraining loss: 0.418\tValidation loss: 0.409\n",
            "\n",
            "EPOCH 5:\tTraining loss: 0.408\tValidation loss: 0.401\n",
            "\n",
            "EPOCH 6:\tTraining loss: 0.400\tValidation loss: 0.394\n",
            "\n",
            "EPOCH 7:\tTraining loss: 0.395\tValidation loss: 0.390\n",
            "\n",
            "EPOCH 8:\tTraining loss: 0.391\tValidation loss: 0.386\n",
            "\n",
            "EPOCH 9:\tTraining loss: 0.388\tValidation loss: 0.383\n",
            "\n",
            "EPOCH 10:\tTraining loss: 0.386\tValidation loss: 0.381\n",
            "\n",
            "EPOCH 11:\tTraining loss: 0.384\tValidation loss: 0.379\n",
            "\n",
            "EPOCH 12:\tTraining loss: 0.382\tValidation loss: 0.378\n",
            "\n",
            "EPOCH 13:\tTraining loss: 0.381\tValidation loss: 0.376\n",
            "\n",
            "EPOCH 14:\tTraining loss: 0.380\tValidation loss: 0.375\n",
            "\n",
            "EPOCH 15:\tTraining loss: 0.379\tValidation loss: 0.374\n",
            "\n",
            "EPOCH 16:\tTraining loss: 0.378\tValidation loss: 0.374\n",
            "\n",
            "EPOCH 17:\tTraining loss: 0.377\tValidation loss: 0.373\n",
            "\n",
            "EPOCH 18:\tTraining loss: 0.377\tValidation loss: 0.372\n",
            "\n",
            "EPOCH 19:\tTraining loss: 0.376\tValidation loss: 0.372\n",
            "\n",
            "EPOCH 20:\tTraining loss: 0.376\tValidation loss: 0.371\n",
            "\n",
            "EPOCH 21:\tTraining loss: 0.375\tValidation loss: 0.371\n",
            "\n",
            "EPOCH 22:\tTraining loss: 0.375\tValidation loss: 0.371\n",
            "\n",
            "EPOCH 23:\tTraining loss: 0.375\tValidation loss: 0.370\n",
            "\n",
            "EPOCH 24:\tTraining loss: 0.375\tValidation loss: 0.370\n",
            "\n",
            "EPOCH 25:\tTraining loss: 0.375\tValidation loss: 0.370\n",
            "\n",
            "EPOCH 26:\tTraining loss: 0.374\tValidation loss: 0.370\n",
            "\n",
            "EPOCH 27:\tTraining loss: 0.374\tValidation loss: 0.370\n",
            "\n",
            "EPOCH 28:\tTraining loss: 0.374\tValidation loss: 0.369\n",
            "\n",
            "EPOCH 29:\tTraining loss: 0.374\tValidation loss: 0.369\n",
            "\n",
            "EPOCH 30:\tTraining loss: 0.374\tValidation loss: 0.369\n",
            "\n",
            "EPOCH 31:\tTraining loss: 0.374\tValidation loss: 0.369\n",
            "\n",
            "EPOCH 32:\tTraining loss: 0.374\tValidation loss: 0.369\n",
            "\n",
            "EPOCH 33:\tTraining loss: 0.374\tValidation loss: 0.369\n",
            "\n",
            "EPOCH 34:\tTraining loss: 0.374\tValidation loss: 0.369\n",
            "\n",
            "EPOCH 35:\tTraining loss: 0.374\tValidation loss: 0.369\n",
            "\n",
            "EPOCH 36:\tTraining loss: 0.374\tValidation loss: 0.369\n",
            "\n",
            "EPOCH 37:\tTraining loss: 0.373\tValidation loss: 0.369\n",
            "\n",
            "EPOCH 38:\tTraining loss: 0.373\tValidation loss: 0.369\n",
            "\n",
            "EPOCH 39:\tTraining loss: 0.373\tValidation loss: 0.369\n",
            "\n",
            "EPOCH 40:\tTraining loss: 0.373\tValidation loss: 0.369\n",
            "\n",
            "EPOCH 41:\tTraining loss: 0.373\tValidation loss: 0.369\n",
            "\n",
            "EPOCH 42:\tTraining loss: 0.373\tValidation loss: 0.368\n",
            "\n",
            "EPOCH 43:\tTraining loss: 0.373\tValidation loss: 0.368\n",
            "\n",
            "EPOCH 44:\tTraining loss: 0.373\tValidation loss: 0.368\n",
            "\n",
            "EPOCH 45:\tTraining loss: 0.373\tValidation loss: 0.368\n",
            "\n",
            "EPOCH 46:\tTraining loss: 0.373\tValidation loss: 0.368\n",
            "\n",
            "EPOCH 47:\tTraining loss: 0.373\tValidation loss: 0.368\n",
            "\n",
            "EPOCH 48:\tTraining loss: 0.373\tValidation loss: 0.368\n",
            "\n",
            "EPOCH 49:\tTraining loss: 0.373\tValidation loss: 0.368\n",
            "\n",
            "EPOCH 50:\tTraining loss: 0.373\tValidation loss: 0.368\n",
            "\n",
            "EPOCH 51:\tTraining loss: 0.373\tValidation loss: 0.368\n",
            "\n",
            "EPOCH 52:\tTraining loss: 0.373\tValidation loss: 0.368\n",
            "\n",
            "EPOCH 53:\tTraining loss: 0.373\tValidation loss: 0.368\n",
            "\n",
            "EPOCH 54:\tTraining loss: 0.373\tValidation loss: 0.368\n",
            "\n",
            "EPOCH 55:\tTraining loss: 0.373\tValidation loss: 0.368\n",
            "\n",
            "EPOCH 56:\tTraining loss: 0.373\tValidation loss: 0.368\n",
            "\n",
            "EPOCH 57:\tTraining loss: 0.373\tValidation loss: 0.368\n",
            "\n",
            "EPOCH 58:\tTraining loss: 0.373\tValidation loss: 0.368\n",
            "\n",
            "EPOCH 59:\tTraining loss: 0.373\tValidation loss: 0.368\n",
            "\n",
            "EPOCH 60:\tTraining loss: 0.373\tValidation loss: 0.368\n",
            "\n",
            "EPOCH 61:\tTraining loss: 0.373\tValidation loss: 0.368\n",
            "\n",
            "EPOCH 62:\tTraining loss: 0.373\tValidation loss: 0.368\n",
            "\n",
            "EPOCH 63:\tTraining loss: 0.373\tValidation loss: 0.368\n",
            "\n",
            "EPOCH 64:\tTraining loss: 0.373\tValidation loss: 0.368\n",
            "\n",
            "EPOCH 65:\tTraining loss: 0.373\tValidation loss: 0.368\n",
            "\n",
            "EPOCH 66:\tTraining loss: 0.373\tValidation loss: 0.368\n",
            "\n",
            "EPOCH 67:\tTraining loss: 0.373\tValidation loss: 0.368\n",
            "\n",
            "EPOCH 68:\tTraining loss: 0.373\tValidation loss: 0.368\n",
            "\n",
            "EPOCH 69:\tTraining loss: 0.373\tValidation loss: 0.368\n",
            "\n",
            "EPOCH 70:\tTraining loss: 0.373\tValidation loss: 0.368\n",
            "\n",
            "EPOCH 71:\tTraining loss: 0.373\tValidation loss: 0.368\n",
            "\n",
            "EPOCH 72:\tTraining loss: 0.373\tValidation loss: 0.368\n",
            "\n",
            "EPOCH 73:\tTraining loss: 0.373\tValidation loss: 0.368\n",
            "\n",
            "EPOCH 74:\tTraining loss: 0.373\tValidation loss: 0.368\n",
            "\n",
            "EPOCH 75:\tTraining loss: 0.373\tValidation loss: 0.368\n",
            "\n",
            "EPOCH 76:\tTraining loss: 0.373\tValidation loss: 0.368\n",
            "\n",
            "EPOCH 77:\tTraining loss: 0.373\tValidation loss: 0.368\n",
            "\n",
            "EPOCH 78:\tTraining loss: 0.373\tValidation loss: 0.368\n",
            "\n",
            "EPOCH 79:\tTraining loss: 0.373\tValidation loss: 0.368\n",
            "\n",
            "EPOCH 80:\tTraining loss: 0.373\tValidation loss: 0.368\n",
            "\n",
            "EPOCH 81:\tTraining loss: 0.373\tValidation loss: 0.368\n",
            "\n",
            "EPOCH 82:\tTraining loss: 0.373\tValidation loss: 0.368\n",
            "\n",
            "EPOCH 83:\tTraining loss: 0.373\tValidation loss: 0.368\n",
            "\n",
            "EPOCH 84:\tTraining loss: 0.373\tValidation loss: 0.368\n",
            "\n",
            "EPOCH 85:\tTraining loss: 0.373\tValidation loss: 0.368\n",
            "\n",
            "EPOCH 86:\tTraining loss: 0.373\tValidation loss: 0.368\n",
            "\n",
            "EPOCH 87:\tTraining loss: 0.373\tValidation loss: 0.368\n",
            "\n",
            "EPOCH 88:\tTraining loss: 0.373\tValidation loss: 0.368\n",
            "\n",
            "EPOCH 89:\tTraining loss: 0.373\tValidation loss: 0.368\n",
            "\n",
            "EPOCH 90:\tTraining loss: 0.373\tValidation loss: 0.368\n",
            "\n",
            "EPOCH 91:\tTraining loss: 0.373\tValidation loss: 0.368\n",
            "\n",
            "EPOCH 92:\tTraining loss: 0.373\tValidation loss: 0.368\n",
            "\n",
            "EPOCH 93:\tTraining loss: 0.373\tValidation loss: 0.368\n",
            "\n",
            "EPOCH 94:\tTraining loss: 0.373\tValidation loss: 0.368\n",
            "\n",
            "EPOCH 95:\tTraining loss: 0.373\tValidation loss: 0.368\n",
            "\n",
            "EPOCH 96:\tTraining loss: 0.373\tValidation loss: 0.368\n",
            "\n",
            "EPOCH 97:\tTraining loss: 0.373\tValidation loss: 0.368\n",
            "\n",
            "EPOCH 98:\tTraining loss: 0.373\tValidation loss: 0.368\n",
            "\n",
            "EPOCH 99:\tTraining loss: 0.373\tValidation loss: 0.368\n",
            "\n",
            "EPOCH 100:\tTraining loss: 0.373\tValidation loss: 0.368\n"
          ]
        }
      ]
    },
    {
      "cell_type": "code",
      "source": [
        "fig, ax = plt.subplots(2, 2, figsize=(12, 10))\n",
        "\n",
        "# Training Loss\n",
        "ax[0, 0].plot(train_losses, color='aqua')\n",
        "ax[0, 0].set(xlabel='Epoch', ylabel='Loss')\n",
        "ax[0, 0].set_title('Training Loss')\n",
        "\n",
        "# Validation Loss\n",
        "ax[0, 1].plot(val_losses, color='tomato')\n",
        "ax[0, 1].set(xlabel='Epoch', ylabel='Loss')\n",
        "ax[0, 1].set_title('Validation Loss')\n",
        "\n",
        "# Training Accuracy\n",
        "ax[1, 0].plot(train_accs, color='gold')\n",
        "ax[1, 0].set(xlabel='Epoch', ylabel='Accuracy')\n",
        "ax[1, 0].set_title('Training Accuracy')\n",
        "\n",
        "# Validation Accuracy\n",
        "ax[1, 1].plot(val_accs, color='lime')\n",
        "ax[1, 1].set(xlabel='Epoch', ylabel='Accuracy')\n",
        "ax[1, 1].set_title('Validation Accuracy')\n",
        "\n",
        "plt.show()\n"
      ],
      "metadata": {
        "colab": {
          "base_uri": "https://localhost:8080/",
          "height": 872
        },
        "id": "SyCUP3R3od-k",
        "outputId": "77abaa7c-017a-43a2-f239-1b8d98dc94f6"
      },
      "execution_count": 152,
      "outputs": [
        {
          "output_type": "display_data",
          "data": {
            "text/plain": [
              "<Figure size 1200x1000 with 4 Axes>"
            ],
            "image/png": "[encoded data removed]"
          },
          "metadata": {}
        }
      ]
    },
    {
      "cell_type": "code",
      "source": [
        "val_set_acc = compute_accuracy(X_val, y_val, theta)\n",
        "test_set_acc = compute_accuracy(X_test, y_test, theta)\n",
        "\n",
        "print(f'Validation set accuracy: {val_set_acc:.3f}')\n",
        "print(f'Test set accuracy: {test_set_acc:.3f}')"
      ],
      "metadata": {
        "colab": {
          "base_uri": "https://localhost:8080/"
        },
        "id": "yNfhMdVEoeBX",
        "outputId": "58ea1ae9-447d-420b-de30-d495da462af8"
      },
      "execution_count": 153,
      "outputs": [
        {
          "output_type": "stream",
          "name": "stdout",
          "text": [
            "Validation set accuracy: 0.826\n",
            "Test set accuracy: 0.840\n"
          ]
        }
      ]
    }
  ]
}